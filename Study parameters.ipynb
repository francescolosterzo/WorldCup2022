{
 "cells": [
  {
   "cell_type": "code",
   "execution_count": 1,
   "metadata": {
    "colab": {
     "base_uri": "https://localhost:8080/"
    },
    "executionInfo": {
     "elapsed": 20737,
     "status": "ok",
     "timestamp": 1668547977946,
     "user": {
      "displayName": "Francesco Lo Sterzo",
      "userId": "03048658485431628929"
     },
     "user_tz": -60
    },
    "id": "cKqBtWpob9mC",
    "outputId": "1b068c1f-df3e-4563-ca08-ec39fe6cc3ee"
   },
   "outputs": [],
   "source": [
    "import pandas as pd\n",
    "import numpy as np\n",
    "import matplotlib.pyplot as plt\n",
    "import utils\n",
    "\n",
    "%load_ext autoreload\n",
    "%autoreload 2"
   ]
  },
  {
   "cell_type": "code",
   "execution_count": 2,
   "metadata": {
    "colab": {
     "base_uri": "https://localhost:8080/",
     "height": 206
    },
    "executionInfo": {
     "elapsed": 592,
     "status": "ok",
     "timestamp": 1668548075163,
     "user": {
      "displayName": "Francesco Lo Sterzo",
      "userId": "03048658485431628929"
     },
     "user_tz": -60
    },
    "id": "YOXAqAb3cQuz",
    "outputId": "6ed51435-30d5-4fd4-e2d6-9469bfcbd7d2"
   },
   "outputs": [
    {
     "data": {
      "text/html": [
       "<div>\n",
       "<style scoped>\n",
       "    .dataframe tbody tr th:only-of-type {\n",
       "        vertical-align: middle;\n",
       "    }\n",
       "\n",
       "    .dataframe tbody tr th {\n",
       "        vertical-align: top;\n",
       "    }\n",
       "\n",
       "    .dataframe thead th {\n",
       "        text-align: right;\n",
       "    }\n",
       "</style>\n",
       "<table border=\"1\" class=\"dataframe\">\n",
       "  <thead>\n",
       "    <tr style=\"text-align: right;\">\n",
       "      <th></th>\n",
       "      <th>Rank</th>\n",
       "      <th>Team</th>\n",
       "      <th>Score</th>\n",
       "    </tr>\n",
       "  </thead>\n",
       "  <tbody>\n",
       "    <tr>\n",
       "      <th>0</th>\n",
       "      <td>1</td>\n",
       "      <td>Germany</td>\n",
       "      <td>1544</td>\n",
       "    </tr>\n",
       "    <tr>\n",
       "      <th>1</th>\n",
       "      <td>2</td>\n",
       "      <td>Brazil</td>\n",
       "      <td>1384</td>\n",
       "    </tr>\n",
       "    <tr>\n",
       "      <th>2</th>\n",
       "      <td>3</td>\n",
       "      <td>Belgium</td>\n",
       "      <td>1346</td>\n",
       "    </tr>\n",
       "    <tr>\n",
       "      <th>3</th>\n",
       "      <td>4</td>\n",
       "      <td>Portugal</td>\n",
       "      <td>1306</td>\n",
       "    </tr>\n",
       "    <tr>\n",
       "      <th>4</th>\n",
       "      <td>5</td>\n",
       "      <td>Argentina</td>\n",
       "      <td>1254</td>\n",
       "    </tr>\n",
       "  </tbody>\n",
       "</table>\n",
       "</div>"
      ],
      "text/plain": [
       "   Rank       Team  Score\n",
       "0     1    Germany   1544\n",
       "1     2     Brazil   1384\n",
       "2     3    Belgium   1346\n",
       "3     4   Portugal   1306\n",
       "4     5  Argentina   1254"
      ]
     },
     "execution_count": 2,
     "metadata": {},
     "output_type": "execute_result"
    }
   ],
   "source": [
    "df_ranking = pd.read_csv('./data/2018_ranking.csv')\n",
    "df_ranking = utils.polish_ranking_data(df_ranking)\n",
    "df_ranking.head()"
   ]
  },
  {
   "cell_type": "code",
   "execution_count": 3,
   "metadata": {
    "colab": {
     "base_uri": "https://localhost:8080/"
    },
    "executionInfo": {
     "elapsed": 303,
     "status": "ok",
     "timestamp": 1668548083394,
     "user": {
      "displayName": "Francesco Lo Sterzo",
      "userId": "03048658485431628929"
     },
     "user_tz": -60
    },
    "id": "j7CGm0qsf5QJ",
    "outputId": "6084dc75-937f-4dc2-80d9-1e4509f57078"
   },
   "outputs": [
    {
     "data": {
      "text/plain": [
       "(356.7346747338305, 1540)"
      ]
     },
     "execution_count": 3,
     "metadata": {},
     "output_type": "execute_result"
    }
   ],
   "source": [
    "### normalization factor: average of the team-by-team difference\n",
    "diffs = []\n",
    "for i,row in df_ranking.query('Score > 0').iterrows():\n",
    "    diffs += np.abs(df_ranking[ (df_ranking['Score']>0) & (df_ranking['Rank']>=row['Rank']) ]['Score'] - row['Score']).tolist()\n",
    "\n",
    "diff_average = np.mean(diffs)\n",
    "diff_max = np.max(diffs)\n",
    "diff_average, diff_max"
   ]
  },
  {
   "cell_type": "code",
   "execution_count": 4,
   "metadata": {
    "colab": {
     "base_uri": "https://localhost:8080/",
     "height": 206
    },
    "executionInfo": {
     "elapsed": 697,
     "status": "ok",
     "timestamp": 1668548091033,
     "user": {
      "displayName": "Francesco Lo Sterzo",
      "userId": "03048658485431628929"
     },
     "user_tz": -60
    },
    "id": "MGkMELIBcscU",
    "outputId": "ca9f9a31-fd69-4f83-ddb7-03971a6b52a5"
   },
   "outputs": [
    {
     "data": {
      "text/html": [
       "<div>\n",
       "<style scoped>\n",
       "    .dataframe tbody tr th:only-of-type {\n",
       "        vertical-align: middle;\n",
       "    }\n",
       "\n",
       "    .dataframe tbody tr th {\n",
       "        vertical-align: top;\n",
       "    }\n",
       "\n",
       "    .dataframe thead th {\n",
       "        text-align: right;\n",
       "    }\n",
       "</style>\n",
       "<table border=\"1\" class=\"dataframe\">\n",
       "  <thead>\n",
       "    <tr style=\"text-align: right;\">\n",
       "      <th></th>\n",
       "      <th>Team1</th>\n",
       "      <th>Result</th>\n",
       "      <th>Team2</th>\n",
       "    </tr>\n",
       "  </thead>\n",
       "  <tbody>\n",
       "    <tr>\n",
       "      <th>0</th>\n",
       "      <td>Colombia</td>\n",
       "      <td>1:2</td>\n",
       "      <td>Japan</td>\n",
       "    </tr>\n",
       "    <tr>\n",
       "      <th>1</th>\n",
       "      <td>Poland</td>\n",
       "      <td>1:2</td>\n",
       "      <td>Senegal</td>\n",
       "    </tr>\n",
       "    <tr>\n",
       "      <th>2</th>\n",
       "      <td>Japan</td>\n",
       "      <td>2:2</td>\n",
       "      <td>Senegal</td>\n",
       "    </tr>\n",
       "    <tr>\n",
       "      <th>3</th>\n",
       "      <td>Poland</td>\n",
       "      <td>0:3</td>\n",
       "      <td>Colombia</td>\n",
       "    </tr>\n",
       "    <tr>\n",
       "      <th>4</th>\n",
       "      <td>Japan</td>\n",
       "      <td>0:1</td>\n",
       "      <td>Poland</td>\n",
       "    </tr>\n",
       "  </tbody>\n",
       "</table>\n",
       "</div>"
      ],
      "text/plain": [
       "      Team1 Result     Team2\n",
       "0  Colombia    1:2     Japan\n",
       "1    Poland    1:2   Senegal\n",
       "2     Japan    2:2   Senegal\n",
       "3    Poland    0:3  Colombia\n",
       "4     Japan    0:1    Poland"
      ]
     },
     "execution_count": 4,
     "metadata": {},
     "output_type": "execute_result"
    }
   ],
   "source": [
    "df_results = pd.read_csv('./data/2018_results.csv')\n",
    "df_results.head()"
   ]
  },
  {
   "cell_type": "code",
   "execution_count": 5,
   "metadata": {
    "executionInfo": {
     "elapsed": 250,
     "status": "ok",
     "timestamp": 1668548096536,
     "user": {
      "displayName": "Francesco Lo Sterzo",
      "userId": "03048658485431628929"
     },
     "user_tz": -60
    },
    "id": "tEYLX4_CgA2h"
   },
   "outputs": [],
   "source": [
    "team_to_score = df_ranking.set_index('Team')['Score'].to_dict()"
   ]
  },
  {
   "cell_type": "markdown",
   "metadata": {},
   "source": [
    "# Combine FIFA scores for a match"
   ]
  },
  {
   "cell_type": "code",
   "execution_count": 6,
   "metadata": {
    "colab": {
     "base_uri": "https://localhost:8080/",
     "height": 363
    },
    "executionInfo": {
     "elapsed": 237,
     "status": "ok",
     "timestamp": 1668548164702,
     "user": {
      "displayName": "Francesco Lo Sterzo",
      "userId": "03048658485431628929"
     },
     "user_tz": -60
    },
    "id": "o1Hn4QS9fXCM",
    "outputId": "a6b3e4d4-94cb-4db1-acc0-267941b92358"
   },
   "outputs": [
    {
     "data": {
      "text/html": [
       "<div>\n",
       "<style scoped>\n",
       "    .dataframe tbody tr th:only-of-type {\n",
       "        vertical-align: middle;\n",
       "    }\n",
       "\n",
       "    .dataframe tbody tr th {\n",
       "        vertical-align: top;\n",
       "    }\n",
       "\n",
       "    .dataframe thead th {\n",
       "        text-align: right;\n",
       "    }\n",
       "</style>\n",
       "<table border=\"1\" class=\"dataframe\">\n",
       "  <thead>\n",
       "    <tr style=\"text-align: right;\">\n",
       "      <th></th>\n",
       "      <th>score_diff</th>\n",
       "      <th>goals</th>\n",
       "    </tr>\n",
       "  </thead>\n",
       "  <tbody>\n",
       "    <tr>\n",
       "      <th>0</th>\n",
       "      <td>461</td>\n",
       "      <td>1</td>\n",
       "    </tr>\n",
       "    <tr>\n",
       "      <th>1</th>\n",
       "      <td>-461</td>\n",
       "      <td>2</td>\n",
       "    </tr>\n",
       "    <tr>\n",
       "      <th>2</th>\n",
       "      <td>303</td>\n",
       "      <td>1</td>\n",
       "    </tr>\n",
       "    <tr>\n",
       "      <th>3</th>\n",
       "      <td>-303</td>\n",
       "      <td>2</td>\n",
       "    </tr>\n",
       "    <tr>\n",
       "      <th>4</th>\n",
       "      <td>-297</td>\n",
       "      <td>2</td>\n",
       "    </tr>\n",
       "    <tr>\n",
       "      <th>5</th>\n",
       "      <td>297</td>\n",
       "      <td>2</td>\n",
       "    </tr>\n",
       "    <tr>\n",
       "      <th>6</th>\n",
       "      <td>139</td>\n",
       "      <td>0</td>\n",
       "    </tr>\n",
       "    <tr>\n",
       "      <th>7</th>\n",
       "      <td>-139</td>\n",
       "      <td>3</td>\n",
       "    </tr>\n",
       "    <tr>\n",
       "      <th>8</th>\n",
       "      <td>-600</td>\n",
       "      <td>0</td>\n",
       "    </tr>\n",
       "    <tr>\n",
       "      <th>9</th>\n",
       "      <td>600</td>\n",
       "      <td>1</td>\n",
       "    </tr>\n",
       "  </tbody>\n",
       "</table>\n",
       "</div>"
      ],
      "text/plain": [
       "   score_diff  goals\n",
       "0         461      1\n",
       "1        -461      2\n",
       "2         303      1\n",
       "3        -303      2\n",
       "4        -297      2\n",
       "5         297      2\n",
       "6         139      0\n",
       "7        -139      3\n",
       "8        -600      0\n",
       "9         600      1"
      ]
     },
     "execution_count": 6,
     "metadata": {},
     "output_type": "execute_result"
    }
   ],
   "source": [
    "d = []\n",
    "g = []\n",
    "\n",
    "for i,row in df_results.iterrows():\n",
    "\n",
    "    t1_fifa_score = team_to_score.get(row['Team1'],0)\n",
    "    t2_fifa_score = team_to_score.get(row['Team2'],0)\n",
    "\n",
    "    match_result = [ int(i) for i in row['Result'].split(':') ]\n",
    "\n",
    "    ## team 1\n",
    "    diff = t1_fifa_score-t2_fifa_score\n",
    "    d.append(diff)\n",
    "    g.append( match_result[0] )\n",
    "\n",
    "    ## team 2\n",
    "    diff = t2_fifa_score-t1_fifa_score\n",
    "    d.append(diff)\n",
    "    g.append( match_result[1] )\n",
    "\n",
    "df_to_fit = pd.DataFrame({\n",
    "    'score_diff':d,\n",
    "    'goals':g})\n",
    "df_to_fit.head(10)"
   ]
  },
  {
   "cell_type": "code",
   "execution_count": 7,
   "metadata": {
    "colab": {
     "base_uri": "https://localhost:8080/",
     "height": 279
    },
    "executionInfo": {
     "elapsed": 420,
     "status": "ok",
     "timestamp": 1668548173076,
     "user": {
      "displayName": "Francesco Lo Sterzo",
      "userId": "03048658485431628929"
     },
     "user_tz": -60
    },
    "id": "h4FQnGZWg6B6",
    "outputId": "ae13d5ef-205c-4ff9-c006-50787e6aa9a4"
   },
   "outputs": [
    {
     "data": {
      "image/png": "[encoded data removed]",
      "text/plain": [
       "<Figure size 432x288 with 1 Axes>"
      ]
     },
     "metadata": {
      "needs_background": "light"
     },
     "output_type": "display_data"
    }
   ],
   "source": [
    "plt.figure()\n",
    "\n",
    "plt.scatter(df_to_fit['score_diff']/diff_average, df_to_fit['goals'], label='norm to ave', alpha=.5)\n",
    "plt.scatter(df_to_fit['score_diff']/diff_max, df_to_fit['goals'], label='norm to max', marker='x', alpha=.5)\n",
    "#plt.scatter(utils.logistic(df_to_fit['score_diff']/diff_max), df_to_fit['goals'], label='logistic(d/max)', marker='x', alpha=.5)\n",
    "#plt.scatter(utils.logistic(df_to_fit['score_diff']/diff_average), df_to_fit['goals'], label='logistic(d/ave)', marker='x', alpha=.5)\n",
    "\n",
    "plt.xlabel('Difference in FIFA Score');\n",
    "plt.ylabel('goals scored');"
   ]
  },
  {
   "cell_type": "code",
   "execution_count": 8,
   "metadata": {},
   "outputs": [],
   "source": [
    "df_to_fit['score_diff_norm_ave'] = df_to_fit['score_diff'] / diff_average\n",
    "df_to_fit['score_diff_norm_max'] = df_to_fit['score_diff'] / diff_max\n",
    "df_to_fit['logit_score_diff_norm_ave'] = utils.logistic(df_to_fit['score_diff_norm_ave'])\n",
    "df_to_fit['logit_score_diff_norm_max'] = utils.logistic(df_to_fit['score_diff_norm_max'])"
   ]
  },
  {
   "cell_type": "code",
   "execution_count": 9,
   "metadata": {
    "executionInfo": {
     "elapsed": 220,
     "status": "ok",
     "timestamp": 1668548181894,
     "user": {
      "displayName": "Francesco Lo Sterzo",
      "userId": "03048658485431628929"
     },
     "user_tz": -60
    },
    "id": "s1eXlS9oFyy0"
   },
   "outputs": [],
   "source": [
    "df_to_fit['score_diff_norm_ave_bins'] = pd.cut(df_to_fit['score_diff_norm_ave'], bins=np.arange(-4.5,4.6,.5), include_lowest=False)\n",
    "df_to_fit['logit_score_diff_norm_ave_bins'] = pd.cut(df_to_fit['logit_score_diff_norm_ave'], bins=np.arange(0,1.01,.1), include_lowest=False)"
   ]
  },
  {
   "cell_type": "code",
   "execution_count": 10,
   "metadata": {
    "colab": {
     "base_uri": "https://localhost:8080/",
     "height": 206
    },
    "executionInfo": {
     "elapsed": 5,
     "status": "ok",
     "timestamp": 1668548183045,
     "user": {
      "displayName": "Francesco Lo Sterzo",
      "userId": "03048658485431628929"
     },
     "user_tz": -60
    },
    "id": "HLUSyeiaGllm",
    "outputId": "a34d34f6-88a9-49f6-d660-b3f70a18f8f6"
   },
   "outputs": [
    {
     "data": {
      "text/html": [
       "<div>\n",
       "<style scoped>\n",
       "    .dataframe tbody tr th:only-of-type {\n",
       "        vertical-align: middle;\n",
       "    }\n",
       "\n",
       "    .dataframe tbody tr th {\n",
       "        vertical-align: top;\n",
       "    }\n",
       "\n",
       "    .dataframe thead th {\n",
       "        text-align: right;\n",
       "    }\n",
       "</style>\n",
       "<table border=\"1\" class=\"dataframe\">\n",
       "  <thead>\n",
       "    <tr style=\"text-align: right;\">\n",
       "      <th></th>\n",
       "      <th>logit_score_diff_norm_ave_bins</th>\n",
       "      <th>goals</th>\n",
       "      <th>logit_score_diff_norm_ave_bins_center</th>\n",
       "    </tr>\n",
       "  </thead>\n",
       "  <tbody>\n",
       "    <tr>\n",
       "      <th>0</th>\n",
       "      <td>(0.0, 0.1]</td>\n",
       "      <td>2.000000</td>\n",
       "      <td>0.05</td>\n",
       "    </tr>\n",
       "    <tr>\n",
       "      <th>1</th>\n",
       "      <td>(0.1, 0.2]</td>\n",
       "      <td>0.454545</td>\n",
       "      <td>0.15</td>\n",
       "    </tr>\n",
       "    <tr>\n",
       "      <th>2</th>\n",
       "      <td>(0.2, 0.3]</td>\n",
       "      <td>0.913043</td>\n",
       "      <td>0.25</td>\n",
       "    </tr>\n",
       "    <tr>\n",
       "      <th>3</th>\n",
       "      <td>(0.3, 0.4]</td>\n",
       "      <td>1.272727</td>\n",
       "      <td>0.35</td>\n",
       "    </tr>\n",
       "    <tr>\n",
       "      <th>4</th>\n",
       "      <td>(0.4, 0.5]</td>\n",
       "      <td>1.529412</td>\n",
       "      <td>0.45</td>\n",
       "    </tr>\n",
       "  </tbody>\n",
       "</table>\n",
       "</div>"
      ],
      "text/plain": [
       "  logit_score_diff_norm_ave_bins     goals  \\\n",
       "0                     (0.0, 0.1]  2.000000   \n",
       "1                     (0.1, 0.2]  0.454545   \n",
       "2                     (0.2, 0.3]  0.913043   \n",
       "3                     (0.3, 0.4]  1.272727   \n",
       "4                     (0.4, 0.5]  1.529412   \n",
       "\n",
       "  logit_score_diff_norm_ave_bins_center  \n",
       "0                                  0.05  \n",
       "1                                  0.15  \n",
       "2                                  0.25  \n",
       "3                                  0.35  \n",
       "4                                  0.45  "
      ]
     },
     "execution_count": 10,
     "metadata": {},
     "output_type": "execute_result"
    }
   ],
   "source": [
    "x_to_use = 'logit_score_diff_norm_ave'\n",
    "bins_to_use = f'{x_to_use}_bins'\n",
    "bins_center = f'{bins_to_use}_center'\n",
    "d = df_to_fit.groupby(bins_to_use).agg({'goals':np.mean}).reset_index()\n",
    "d[bins_center] = d[bins_to_use].apply( lambda x: x.mid)\n",
    "d.head()"
   ]
  },
  {
   "cell_type": "code",
   "execution_count": 11,
   "metadata": {
    "colab": {
     "base_uri": "https://localhost:8080/",
     "height": 301
    },
    "executionInfo": {
     "elapsed": 278,
     "status": "ok",
     "timestamp": 1668548187373,
     "user": {
      "displayName": "Francesco Lo Sterzo",
      "userId": "03048658485431628929"
     },
     "user_tz": -60
    },
    "id": "WWmEL-GfG2n3",
    "outputId": "954cee6b-449f-41aa-e4a2-fa09ae141b75"
   },
   "outputs": [
    {
     "name": "stdout",
     "output_type": "stream",
     "text": [
      "[0.43693151 1.13720734]\n"
     ]
    },
    {
     "data": {
      "image/png": "[encoded data removed]",
      "text/plain": [
       "<Figure size 432x288 with 1 Axes>"
      ]
     },
     "metadata": {
      "needs_background": "light"
     },
     "output_type": "display_data"
    }
   ],
   "source": [
    "plt.figure()\n",
    "\n",
    "plt.scatter(df_to_fit[x_to_use], df_to_fit['goals'], label='unaggregated', alpha=.2, marker='x', color='green')\n",
    "plt.scatter(d[bins_center], d['goals'], label='aggregated per bin', alpha=1)\n",
    "\n",
    "deg = 1\n",
    "p = np.polyfit(d[bins_center], d['goals'], deg)\n",
    "print(p)\n",
    "\n",
    "x = np.linspace(0,1,100)\n",
    "y = np.zeros(len(x))\n",
    "for i,pi in enumerate(p):\n",
    "    y += pi * x**(deg-i)\n",
    "\n",
    "plt.plot(x, y, label=f'poly-fit (deg={deg})', color='red')\n",
    "\n",
    "plt.xlabel('logistic(normalized score diff)');\n",
    "plt.ylabel('goals scored');\n",
    "#plt.ylim([-0.2,10]);\n",
    "plt.legend(loc='best');"
   ]
  },
  {
   "cell_type": "markdown",
   "metadata": {},
   "source": [
    "# \"Calibrate\"\n",
    "The outcome of the above part is used to run simulations in the other notebook. Let's now tune the parameters of the simulation to make it more solid."
   ]
  },
  {
   "cell_type": "code",
   "execution_count": 12,
   "metadata": {
    "id": "8M5RJJL7Dt3I"
   },
   "outputs": [],
   "source": [
    "def get_winner(row, team_to_score):\n",
    "    \n",
    "    fifa_scores = [team_to_score.get(row['Team1']), team_to_score.get(row['Team2'])]\n",
    "    result = [int(i) for i in row['Result'].split(':')]\n",
    "    \n",
    "    idx_win = np.argmax(result)\n",
    "    idx_lose = 1 - idx_win\n",
    "    \n",
    "    if result[0]==result[1]:\n",
    "        return 'draw'\n",
    "    \n",
    "    if fifa_scores[idx_win] > fifa_scores[idx_lose]:\n",
    "        return 'best'\n",
    "    return 'worse'"
   ]
  },
  {
   "cell_type": "code",
   "execution_count": 13,
   "metadata": {},
   "outputs": [
    {
     "data": {
      "text/html": [
       "<div>\n",
       "<style scoped>\n",
       "    .dataframe tbody tr th:only-of-type {\n",
       "        vertical-align: middle;\n",
       "    }\n",
       "\n",
       "    .dataframe tbody tr th {\n",
       "        vertical-align: top;\n",
       "    }\n",
       "\n",
       "    .dataframe thead th {\n",
       "        text-align: right;\n",
       "    }\n",
       "</style>\n",
       "<table border=\"1\" class=\"dataframe\">\n",
       "  <thead>\n",
       "    <tr style=\"text-align: right;\">\n",
       "      <th></th>\n",
       "      <th>Team1</th>\n",
       "      <th>Result</th>\n",
       "      <th>Team2</th>\n",
       "      <th>winner</th>\n",
       "    </tr>\n",
       "  </thead>\n",
       "  <tbody>\n",
       "    <tr>\n",
       "      <th>0</th>\n",
       "      <td>Colombia</td>\n",
       "      <td>1:2</td>\n",
       "      <td>Japan</td>\n",
       "      <td>worse</td>\n",
       "    </tr>\n",
       "    <tr>\n",
       "      <th>1</th>\n",
       "      <td>Poland</td>\n",
       "      <td>1:2</td>\n",
       "      <td>Senegal</td>\n",
       "      <td>worse</td>\n",
       "    </tr>\n",
       "    <tr>\n",
       "      <th>2</th>\n",
       "      <td>Japan</td>\n",
       "      <td>2:2</td>\n",
       "      <td>Senegal</td>\n",
       "      <td>draw</td>\n",
       "    </tr>\n",
       "    <tr>\n",
       "      <th>3</th>\n",
       "      <td>Poland</td>\n",
       "      <td>0:3</td>\n",
       "      <td>Colombia</td>\n",
       "      <td>worse</td>\n",
       "    </tr>\n",
       "    <tr>\n",
       "      <th>4</th>\n",
       "      <td>Japan</td>\n",
       "      <td>0:1</td>\n",
       "      <td>Poland</td>\n",
       "      <td>best</td>\n",
       "    </tr>\n",
       "  </tbody>\n",
       "</table>\n",
       "</div>"
      ],
      "text/plain": [
       "      Team1 Result     Team2 winner\n",
       "0  Colombia    1:2     Japan  worse\n",
       "1    Poland    1:2   Senegal  worse\n",
       "2     Japan    2:2   Senegal   draw\n",
       "3    Poland    0:3  Colombia  worse\n",
       "4     Japan    0:1    Poland   best"
      ]
     },
     "execution_count": 13,
     "metadata": {},
     "output_type": "execute_result"
    }
   ],
   "source": [
    "df_results['winner'] = df_results.apply( lambda r: get_winner(r, team_to_score), axis=1 )\n",
    "df_results.head()"
   ]
  },
  {
   "cell_type": "code",
   "execution_count": 14,
   "metadata": {},
   "outputs": [
    {
     "data": {
      "text/plain": [
       "best     0.515625\n",
       "worse    0.281250\n",
       "draw     0.203125\n",
       "Name: winner, dtype: float64"
      ]
     },
     "execution_count": 14,
     "metadata": {},
     "output_type": "execute_result"
    }
   ],
   "source": [
    "x = df_results['winner'].value_counts()\n",
    "x / x.sum()"
   ]
  },
  {
   "cell_type": "code",
   "execution_count": 15,
   "metadata": {},
   "outputs": [],
   "source": [
    "config = {\n",
    "    'score_name': 'Score',\n",
    "    'normalization_factor': diff_average,\n",
    "    'n_trials': 5000,\n",
    "    'to_lambdas': lambda x: x * 2.5\n",
    "}"
   ]
  },
  {
   "cell_type": "code",
   "execution_count": 16,
   "metadata": {},
   "outputs": [
    {
     "data": {
      "text/html": [
       "<div>\n",
       "<style scoped>\n",
       "    .dataframe tbody tr th:only-of-type {\n",
       "        vertical-align: middle;\n",
       "    }\n",
       "\n",
       "    .dataframe tbody tr th {\n",
       "        vertical-align: top;\n",
       "    }\n",
       "\n",
       "    .dataframe thead th {\n",
       "        text-align: right;\n",
       "    }\n",
       "</style>\n",
       "<table border=\"1\" class=\"dataframe\">\n",
       "  <thead>\n",
       "    <tr style=\"text-align: right;\">\n",
       "      <th></th>\n",
       "      <th>teams</th>\n",
       "      <th>normalized_score_diff</th>\n",
       "      <th>goals</th>\n",
       "      <th>probabilities</th>\n",
       "      <th>p_best_wins</th>\n",
       "      <th>p_worst_wins</th>\n",
       "      <th>p_draw</th>\n",
       "    </tr>\n",
       "  </thead>\n",
       "  <tbody>\n",
       "    <tr>\n",
       "      <th>0</th>\n",
       "      <td>[Japan, Colombia]</td>\n",
       "      <td>1.292277</td>\n",
       "      <td>[[1, 3], [1, 1], [0, 5], [0, 2], [1, 0], [1, 1...</td>\n",
       "      <td>[0.0942, 0.1866, 0.7192]</td>\n",
       "      <td>0.7192</td>\n",
       "      <td>0.0942</td>\n",
       "      <td>0.1866</td>\n",
       "    </tr>\n",
       "    <tr>\n",
       "      <th>1</th>\n",
       "      <td>[Senegal, Poland]</td>\n",
       "      <td>0.849371</td>\n",
       "      <td>[[1, 2], [1, 1], [0, 2], [0, 1], [2, 3], [1, 1...</td>\n",
       "      <td>[0.1576, 0.2346, 0.6078]</td>\n",
       "      <td>0.6078</td>\n",
       "      <td>0.1576</td>\n",
       "      <td>0.2346</td>\n",
       "    </tr>\n",
       "    <tr>\n",
       "      <th>2</th>\n",
       "      <td>[Japan, Senegal]</td>\n",
       "      <td>0.832552</td>\n",
       "      <td>[[1, 1], [0, 3], [3, 0], [0, 3], [0, 2], [2, 2...</td>\n",
       "      <td>[0.1498, 0.2394, 0.6108]</td>\n",
       "      <td>0.6108</td>\n",
       "      <td>0.1498</td>\n",
       "      <td>0.2394</td>\n",
       "    </tr>\n",
       "    <tr>\n",
       "      <th>3</th>\n",
       "      <td>[Colombia, Poland]</td>\n",
       "      <td>0.389645</td>\n",
       "      <td>[[1, 1], [1, 3], [0, 0], [1, 1], [2, 1], [1, 3...</td>\n",
       "      <td>[0.2528, 0.272, 0.4752]</td>\n",
       "      <td>0.4752</td>\n",
       "      <td>0.2528</td>\n",
       "      <td>0.2720</td>\n",
       "    </tr>\n",
       "    <tr>\n",
       "      <th>4</th>\n",
       "      <td>[Japan, Poland]</td>\n",
       "      <td>1.681922</td>\n",
       "      <td>[[0, 4], [1, 6], [0, 2], [1, 1], [0, 1], [0, 3...</td>\n",
       "      <td>[0.0564, 0.164, 0.7796]</td>\n",
       "      <td>0.7796</td>\n",
       "      <td>0.0564</td>\n",
       "      <td>0.1640</td>\n",
       "    </tr>\n",
       "  </tbody>\n",
       "</table>\n",
       "</div>"
      ],
      "text/plain": [
       "                teams  normalized_score_diff  \\\n",
       "0   [Japan, Colombia]               1.292277   \n",
       "1   [Senegal, Poland]               0.849371   \n",
       "2    [Japan, Senegal]               0.832552   \n",
       "3  [Colombia, Poland]               0.389645   \n",
       "4     [Japan, Poland]               1.681922   \n",
       "\n",
       "                                               goals  \\\n",
       "0  [[1, 3], [1, 1], [0, 5], [0, 2], [1, 0], [1, 1...   \n",
       "1  [[1, 2], [1, 1], [0, 2], [0, 1], [2, 3], [1, 1...   \n",
       "2  [[1, 1], [0, 3], [3, 0], [0, 3], [0, 2], [2, 2...   \n",
       "3  [[1, 1], [1, 3], [0, 0], [1, 1], [2, 1], [1, 3...   \n",
       "4  [[0, 4], [1, 6], [0, 2], [1, 1], [0, 1], [0, 3...   \n",
       "\n",
       "              probabilities  p_best_wins  p_worst_wins  p_draw  \n",
       "0  [0.0942, 0.1866, 0.7192]       0.7192        0.0942  0.1866  \n",
       "1  [0.1576, 0.2346, 0.6078]       0.6078        0.1576  0.2346  \n",
       "2  [0.1498, 0.2394, 0.6108]       0.6108        0.1498  0.2394  \n",
       "3   [0.2528, 0.272, 0.4752]       0.4752        0.2528  0.2720  \n",
       "4   [0.0564, 0.164, 0.7796]       0.7796        0.0564  0.1640  "
      ]
     },
     "execution_count": 16,
     "metadata": {},
     "output_type": "execute_result"
    }
   ],
   "source": [
    "simulation = []\n",
    "\n",
    "for i,row in df_results.iterrows():\n",
    "    \n",
    "    o = utils.simulate_match(\n",
    "        (row['Team1'],row['Team2']),\n",
    "        df_ranking,\n",
    "        **config\n",
    "    )\n",
    "    simulation.append(o)\n",
    "\n",
    "df_sim = utils.extract(simulation)\n",
    "df_sim.head()"
   ]
  },
  {
   "cell_type": "code",
   "execution_count": 17,
   "metadata": {},
   "outputs": [
    {
     "data": {
      "text/html": [
       "<div>\n",
       "<style scoped>\n",
       "    .dataframe tbody tr th:only-of-type {\n",
       "        vertical-align: middle;\n",
       "    }\n",
       "\n",
       "    .dataframe tbody tr th {\n",
       "        vertical-align: top;\n",
       "    }\n",
       "\n",
       "    .dataframe thead th {\n",
       "        text-align: right;\n",
       "    }\n",
       "</style>\n",
       "<table border=\"1\" class=\"dataframe\">\n",
       "  <thead>\n",
       "    <tr style=\"text-align: right;\">\n",
       "      <th></th>\n",
       "      <th>Team1</th>\n",
       "      <th>Result</th>\n",
       "      <th>Team2</th>\n",
       "      <th>winner</th>\n",
       "    </tr>\n",
       "  </thead>\n",
       "  <tbody>\n",
       "    <tr>\n",
       "      <th>0</th>\n",
       "      <td>Colombia</td>\n",
       "      <td>1:2</td>\n",
       "      <td>Japan</td>\n",
       "      <td>worse</td>\n",
       "    </tr>\n",
       "    <tr>\n",
       "      <th>1</th>\n",
       "      <td>Poland</td>\n",
       "      <td>1:2</td>\n",
       "      <td>Senegal</td>\n",
       "      <td>worse</td>\n",
       "    </tr>\n",
       "    <tr>\n",
       "      <th>2</th>\n",
       "      <td>Japan</td>\n",
       "      <td>2:2</td>\n",
       "      <td>Senegal</td>\n",
       "      <td>draw</td>\n",
       "    </tr>\n",
       "    <tr>\n",
       "      <th>3</th>\n",
       "      <td>Poland</td>\n",
       "      <td>0:3</td>\n",
       "      <td>Colombia</td>\n",
       "      <td>worse</td>\n",
       "    </tr>\n",
       "    <tr>\n",
       "      <th>4</th>\n",
       "      <td>Japan</td>\n",
       "      <td>0:1</td>\n",
       "      <td>Poland</td>\n",
       "      <td>best</td>\n",
       "    </tr>\n",
       "  </tbody>\n",
       "</table>\n",
       "</div>"
      ],
      "text/plain": [
       "      Team1 Result     Team2 winner\n",
       "0  Colombia    1:2     Japan  worse\n",
       "1    Poland    1:2   Senegal  worse\n",
       "2     Japan    2:2   Senegal   draw\n",
       "3    Poland    0:3  Colombia  worse\n",
       "4     Japan    0:1    Poland   best"
      ]
     },
     "execution_count": 17,
     "metadata": {},
     "output_type": "execute_result"
    }
   ],
   "source": [
    "df_results.head()"
   ]
  },
  {
   "cell_type": "code",
   "execution_count": 18,
   "metadata": {},
   "outputs": [],
   "source": [
    "df_results['teams-str'] = ''\n",
    "\n",
    "for i,row in df_results.iterrows():\n",
    "    df_results.at[i, 'teams-str'] = '-'.join(np.sort([row['Team1'],row['Team2']]))\n",
    "\n",
    "df_sim['teams-str'] = ''\n",
    "for i,row in df_sim.iterrows():\n",
    "    df_sim.at[i, 'teams-str'] = '-'.join(np.sort(row['teams']))"
   ]
  },
  {
   "cell_type": "code",
   "execution_count": 19,
   "metadata": {},
   "outputs": [
    {
     "data": {
      "text/html": [
       "<div>\n",
       "<style scoped>\n",
       "    .dataframe tbody tr th:only-of-type {\n",
       "        vertical-align: middle;\n",
       "    }\n",
       "\n",
       "    .dataframe tbody tr th {\n",
       "        vertical-align: top;\n",
       "    }\n",
       "\n",
       "    .dataframe thead th {\n",
       "        text-align: right;\n",
       "    }\n",
       "</style>\n",
       "<table border=\"1\" class=\"dataframe\">\n",
       "  <thead>\n",
       "    <tr style=\"text-align: right;\">\n",
       "      <th></th>\n",
       "      <th>Team1</th>\n",
       "      <th>Result</th>\n",
       "      <th>Team2</th>\n",
       "      <th>winner</th>\n",
       "      <th>teams-str</th>\n",
       "    </tr>\n",
       "  </thead>\n",
       "  <tbody>\n",
       "    <tr>\n",
       "      <th>0</th>\n",
       "      <td>Colombia</td>\n",
       "      <td>1:2</td>\n",
       "      <td>Japan</td>\n",
       "      <td>worse</td>\n",
       "      <td>Colombia-Japan</td>\n",
       "    </tr>\n",
       "    <tr>\n",
       "      <th>1</th>\n",
       "      <td>Poland</td>\n",
       "      <td>1:2</td>\n",
       "      <td>Senegal</td>\n",
       "      <td>worse</td>\n",
       "      <td>Poland-Senegal</td>\n",
       "    </tr>\n",
       "    <tr>\n",
       "      <th>2</th>\n",
       "      <td>Japan</td>\n",
       "      <td>2:2</td>\n",
       "      <td>Senegal</td>\n",
       "      <td>draw</td>\n",
       "      <td>Japan-Senegal</td>\n",
       "    </tr>\n",
       "    <tr>\n",
       "      <th>3</th>\n",
       "      <td>Poland</td>\n",
       "      <td>0:3</td>\n",
       "      <td>Colombia</td>\n",
       "      <td>worse</td>\n",
       "      <td>Colombia-Poland</td>\n",
       "    </tr>\n",
       "    <tr>\n",
       "      <th>4</th>\n",
       "      <td>Japan</td>\n",
       "      <td>0:1</td>\n",
       "      <td>Poland</td>\n",
       "      <td>best</td>\n",
       "      <td>Japan-Poland</td>\n",
       "    </tr>\n",
       "  </tbody>\n",
       "</table>\n",
       "</div>"
      ],
      "text/plain": [
       "      Team1 Result     Team2 winner        teams-str\n",
       "0  Colombia    1:2     Japan  worse   Colombia-Japan\n",
       "1    Poland    1:2   Senegal  worse   Poland-Senegal\n",
       "2     Japan    2:2   Senegal   draw    Japan-Senegal\n",
       "3    Poland    0:3  Colombia  worse  Colombia-Poland\n",
       "4     Japan    0:1    Poland   best     Japan-Poland"
      ]
     },
     "execution_count": 19,
     "metadata": {},
     "output_type": "execute_result"
    }
   ],
   "source": [
    "df_results.head()"
   ]
  },
  {
   "cell_type": "code",
   "execution_count": 20,
   "metadata": {},
   "outputs": [
    {
     "data": {
      "text/html": [
       "<div>\n",
       "<style scoped>\n",
       "    .dataframe tbody tr th:only-of-type {\n",
       "        vertical-align: middle;\n",
       "    }\n",
       "\n",
       "    .dataframe tbody tr th {\n",
       "        vertical-align: top;\n",
       "    }\n",
       "\n",
       "    .dataframe thead th {\n",
       "        text-align: right;\n",
       "    }\n",
       "</style>\n",
       "<table border=\"1\" class=\"dataframe\">\n",
       "  <thead>\n",
       "    <tr style=\"text-align: right;\">\n",
       "      <th></th>\n",
       "      <th>teams</th>\n",
       "      <th>normalized_score_diff</th>\n",
       "      <th>goals</th>\n",
       "      <th>probabilities</th>\n",
       "      <th>p_best_wins</th>\n",
       "      <th>p_worst_wins</th>\n",
       "      <th>p_draw</th>\n",
       "      <th>teams-str</th>\n",
       "      <th>winner</th>\n",
       "    </tr>\n",
       "  </thead>\n",
       "  <tbody>\n",
       "    <tr>\n",
       "      <th>0</th>\n",
       "      <td>[Japan, Colombia]</td>\n",
       "      <td>1.292277</td>\n",
       "      <td>[[1, 3], [1, 1], [0, 5], [0, 2], [1, 0], [1, 1...</td>\n",
       "      <td>[0.0942, 0.1866, 0.7192]</td>\n",
       "      <td>0.7192</td>\n",
       "      <td>0.0942</td>\n",
       "      <td>0.1866</td>\n",
       "      <td>Colombia-Japan</td>\n",
       "      <td>worse</td>\n",
       "    </tr>\n",
       "    <tr>\n",
       "      <th>1</th>\n",
       "      <td>[Senegal, Poland]</td>\n",
       "      <td>0.849371</td>\n",
       "      <td>[[1, 2], [1, 1], [0, 2], [0, 1], [2, 3], [1, 1...</td>\n",
       "      <td>[0.1576, 0.2346, 0.6078]</td>\n",
       "      <td>0.6078</td>\n",
       "      <td>0.1576</td>\n",
       "      <td>0.2346</td>\n",
       "      <td>Poland-Senegal</td>\n",
       "      <td>worse</td>\n",
       "    </tr>\n",
       "    <tr>\n",
       "      <th>2</th>\n",
       "      <td>[Japan, Senegal]</td>\n",
       "      <td>0.832552</td>\n",
       "      <td>[[1, 1], [0, 3], [3, 0], [0, 3], [0, 2], [2, 2...</td>\n",
       "      <td>[0.1498, 0.2394, 0.6108]</td>\n",
       "      <td>0.6108</td>\n",
       "      <td>0.1498</td>\n",
       "      <td>0.2394</td>\n",
       "      <td>Japan-Senegal</td>\n",
       "      <td>draw</td>\n",
       "    </tr>\n",
       "    <tr>\n",
       "      <th>3</th>\n",
       "      <td>[Colombia, Poland]</td>\n",
       "      <td>0.389645</td>\n",
       "      <td>[[1, 1], [1, 3], [0, 0], [1, 1], [2, 1], [1, 3...</td>\n",
       "      <td>[0.2528, 0.272, 0.4752]</td>\n",
       "      <td>0.4752</td>\n",
       "      <td>0.2528</td>\n",
       "      <td>0.2720</td>\n",
       "      <td>Colombia-Poland</td>\n",
       "      <td>worse</td>\n",
       "    </tr>\n",
       "    <tr>\n",
       "      <th>4</th>\n",
       "      <td>[Japan, Poland]</td>\n",
       "      <td>1.681922</td>\n",
       "      <td>[[0, 4], [1, 6], [0, 2], [1, 1], [0, 1], [0, 3...</td>\n",
       "      <td>[0.0564, 0.164, 0.7796]</td>\n",
       "      <td>0.7796</td>\n",
       "      <td>0.0564</td>\n",
       "      <td>0.1640</td>\n",
       "      <td>Japan-Poland</td>\n",
       "      <td>best</td>\n",
       "    </tr>\n",
       "  </tbody>\n",
       "</table>\n",
       "</div>"
      ],
      "text/plain": [
       "                teams  normalized_score_diff  \\\n",
       "0   [Japan, Colombia]               1.292277   \n",
       "1   [Senegal, Poland]               0.849371   \n",
       "2    [Japan, Senegal]               0.832552   \n",
       "3  [Colombia, Poland]               0.389645   \n",
       "4     [Japan, Poland]               1.681922   \n",
       "\n",
       "                                               goals  \\\n",
       "0  [[1, 3], [1, 1], [0, 5], [0, 2], [1, 0], [1, 1...   \n",
       "1  [[1, 2], [1, 1], [0, 2], [0, 1], [2, 3], [1, 1...   \n",
       "2  [[1, 1], [0, 3], [3, 0], [0, 3], [0, 2], [2, 2...   \n",
       "3  [[1, 1], [1, 3], [0, 0], [1, 1], [2, 1], [1, 3...   \n",
       "4  [[0, 4], [1, 6], [0, 2], [1, 1], [0, 1], [0, 3...   \n",
       "\n",
       "              probabilities  p_best_wins  p_worst_wins  p_draw  \\\n",
       "0  [0.0942, 0.1866, 0.7192]       0.7192        0.0942  0.1866   \n",
       "1  [0.1576, 0.2346, 0.6078]       0.6078        0.1576  0.2346   \n",
       "2  [0.1498, 0.2394, 0.6108]       0.6108        0.1498  0.2394   \n",
       "3   [0.2528, 0.272, 0.4752]       0.4752        0.2528  0.2720   \n",
       "4   [0.0564, 0.164, 0.7796]       0.7796        0.0564  0.1640   \n",
       "\n",
       "         teams-str winner  \n",
       "0   Colombia-Japan  worse  \n",
       "1   Poland-Senegal  worse  \n",
       "2    Japan-Senegal   draw  \n",
       "3  Colombia-Poland  worse  \n",
       "4     Japan-Poland   best  "
      ]
     },
     "execution_count": 20,
     "metadata": {},
     "output_type": "execute_result"
    }
   ],
   "source": [
    "df_sim = df_sim.merge(df_results[['teams-str','winner']], on='teams-str')\n",
    "df_sim.head()"
   ]
  },
  {
   "cell_type": "code",
   "execution_count": 21,
   "metadata": {},
   "outputs": [
    {
     "name": "stdout",
     "output_type": "stream",
     "text": [
      "best 0.4998342857142857\n",
      "draw 0.4339076923076923\n",
      "worse 0.345\n"
     ]
    },
    {
     "data": {
      "image/png": "[encoded data removed]",
      "text/plain": [
       "<Figure size 432x288 with 1 Axes>"
      ]
     },
     "metadata": {
      "needs_background": "light"
     },
     "output_type": "display_data"
    }
   ],
   "source": [
    "opt = {\n",
    "    'bins':np.linspace(0,1,10),\n",
    "    'histtype':'step',\n",
    "    'lw':2\n",
    "}\n",
    "plt.figure()\n",
    "\n",
    "for n,g in df_sim.groupby('winner'):\n",
    "    delta = g['p_best_wins']-g['p_worst_wins']\n",
    "    plt.hist( delta, label=f'winner: {n}', **opt )\n",
    "    \n",
    "    print(n, delta.mean())\n",
    "\n",
    "plt.legend(loc='best');"
   ]
  }
 ],
 "metadata": {
  "colab": {
   "authorship_tag": "ABX9TyMz8MlD2YhV19iaG5AhoC6F",
   "collapsed_sections": [],
   "provenance": []
  },
  "kernelspec": {
   "display_name": "Python 3",
   "language": "python",
   "name": "python3"
  },
  "language_info": {
   "codemirror_mode": {
    "name": "ipython",
    "version": 3
   },
   "file_extension": ".py",
   "mimetype": "text/x-python",
   "name": "python",
   "nbconvert_exporter": "python",
   "pygments_lexer": "ipython3",
   "version": "3.6.8"
  }
 },
 "nbformat": 4,
 "nbformat_minor": 4
}
